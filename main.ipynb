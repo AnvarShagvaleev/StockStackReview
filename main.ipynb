{
 "cells": [
  {
   "cell_type": "markdown",
   "metadata": {},
   "source": [
    "<head>\n",
    "    <meta name=\"viewport\" content=\"width=device-width, initial-scale=1\">\n",
    "    <link rel=\"stylesheet\" href=\"https://cdnjs.cloudflare.com/ajax/libs/font-awesome/4.7.0/css/font-awesome.min.css\">\n",
    "    <style>\n",
    "        .fa {\n",
    "        padding: 20px;\n",
    "        font-size: 30px;\n",
    "        width: 30px;\n",
    "        text-align: center;\n",
    "        text-decoration: none;\n",
    "        margin: 5px 2px;\n",
    "        border-radius: 50%;\n",
    "        background: black;\n",
    "        color: white;\n",
    "        }\n",
    "        .fa:hover {\n",
    "            opacity: 0.7;\n",
    "        }\n",
    "    </style>\n",
    "</head>\n",
    "<body>\n",
    "    <hr>\n",
    "    <div style=\"font-size:40px;text-align:center\">Шагвалеев Анвар</div>\n",
    "    <div style=\"font-size:20px;text-align:center;color:#737574;margin-top:5px;\">\n",
    "        <div>Аналитик | <a href=\"https://www.digitalleague.ru/\">Лига Цифровой Экономики</a></div>\n",
    "        <div>Студент | <a href=\"https://kpfu.ru/computing-technology\">КФУ ИВМИИТ 09-115(3)</div>\n",
    "    </div>\n",
    "    <div style=\"font-size:20px;text-align:center;margin-top:20px;\">\n",
    "        <a href=\"@ashagvaleev\" class=\"fa fa-telegram\"></a>\n",
    "        <a href=\"+79961248458\" class=\"fa fa-phone\"></a>\n",
    "        <a href=\"https://github.com/AnvarShagvaleev\" class=\"fa fa-github\"></a>\n",
    "        <a href=\"a.shagvaleev@noctadigital.ru\" class=\"fa fa-mail-forward\"></a>\n",
    "    </div>\n",
    "    <hr>\n",
    "</body>"
   ]
  },
  {
   "cell_type": "markdown",
   "metadata": {},
   "source": [
    "- https://newtechaudit.ru/python-dlya-analiza-rynka-czennyh-bumag/\n",
    "- https://habr.com/ru/company/iticapital/blog/331542/\n",
    "\n",
    "Нужно рассказать про библиотеки.\n",
    "Возможно нужно построить какую-нибудь мож \n",
    "\n",
    "https://www.datacamp.com/tutorial/finance-python-trading#gs.8u7rQvs"
   ]
  },
  {
   "cell_type": "markdown",
   "metadata": {},
   "source": [
    "# Анализ данных на Python — построение модели фондового рынка\n",
    "\n",
    "В этом обзоре будет показаны инструменты для анализа и прогнозирования рынка на языке Python. Однако, перед тем, как рассказывать о технологиях, имеет смысл коснуться базовых понятий из сферы финансов."
   ]
  },
  {
   "cell_type": "markdown",
   "metadata": {},
   "source": [
    "## Базовые понятия из сферы финансов\n",
    "\n",
    "Для начала сразу хочу ограничить в своем изложении богатое разнообразие финансовые иструментов. Это позволит мне сократить данный обзор и уложиться в формат статьи. Здесь мы будем рассматривать только акции. Однако, это не означает, что все нижеприведенные технологии не могут применяться на других инструментах.\n",
    "\n",
    "### Что такое акция?\n",
    "Акция - это ценная бумага, которую выпускает акционерное общество, другими словами — компания-эмитент. Все инвесторы, которые купили акции, стали совладельцами компании. Акция как раз и подтверждает, что у ее владельца есть доля в компании, пусть даже совсем маленькая.\n",
    "\n",
    "### Для чего компании выпускают акции?\n",
    "Основным мотивом выпуска акций является привлечение финансирования для развития и масштабирования бизнеса.\n",
    "\n",
    "> **Пример:** Компания выходит на биржу и предлагает частным инвесторам купить ее акции. Например, выставляет 50%-ную долю в виде 5 млн акций, каждая из которых продается по 100 рублей. Если все акции компании купят, она получит 500 млн рублей и сможет потратить эти деньги на развитие бизнеса, например выход на новые рынки, исследования или покупку оборудования.\n",
    "\n",
    "### Основная идея торговли акциями\n",
    "Цена, по которой конкретная акция будет продана или куплена, может постоянно меняться, вне зависимости от бизнес-показателей выпустившей акции компании: все определяется спросом и предложением. При покупке акций инвестор получает определенную долю в компании, из чего может в будущем извлечь финансовую выгоду, продав эту долю. Стратегии могут различаться: существуют длинные сделки (long), заключаемые в надежде на дальнейший рост акций, и короткие, когда инвестор предполагает, что акции будут дешеветь, поэтому продает акции в надежде в будущем «откупить» их обратно по более низкой цене.\n",
    "\n",
    "### Пайплайн разработки торговой стратегии\n",
    "Разработка торговой стратегии включает в себя несколько стадий, что похоже, например, на построение моделей машинного обучения: сначала нужно сформулировть стратегию и описать ее в формате, позволяющем запустить ее на компьютере, затем нужно протестировать работоспособность получившейся программы, оптимизировать ее, а затем оценить результативность и надежность работы.\n",
    "\n",
    "Торговые стратегии обычно проверяют с помощью бэктестинга: это подход, при которым стратегия «прогоняется» на исторических данных о торгах — на их основе программа генерирует сделки. Это позволяет понять, принесла бы такая стратегия доход при том развитии рыночной ситуации, что наблюдалось в прошлом. Таким образом, можно предварительно оценить перспективность стратегии в торгах в режиме реального времени. При этом, нет гарантий того, что хорошие показатели на исторических данных повторятся при работе на реальном рынке.\n",
    "\n",
    "### Временные ряды\n",
    "\n",
    "Временной ряд — это последовательность цифровых данных, полученных на последовательных равных промежутках времени. В сфере финансов такие ряды используются для отслеживания движений цен за определенный период времени, записанных в равные интервалы. Вот, как это выглядит:\n",
    "![Пример временного ряда](./imgs/timeseries.png)\n",
    "\n",
    "По оcи X расположены даты, а цена — на оси Y. «Последовательные равные промежутки времени» в данном случае означает, что по временной оси даты расположены с недельным интервалом.\n",
    "\n",
    "Однако финансовые данные обычно включают не два параметра (цена и дата), а пять — помимо величины торгового периода, это цена открытия торгового периода, наивысшая и низшая цена в его рамках, а также цена в момент закрытия периода. Поэтому чаще всего для более наглядным является \"свечной\" график.\n",
    "![Пример свечного графика](./imgs/Candlestickchart.png)\n",
    "\n",
    "Выше были описаны базовые понятия, которые необходимо знать, чтобы продолжить изучение"
   ]
  },
  {
   "cell_type": "markdown",
   "metadata": {},
   "source": [
    "## Основы Python для сферы финансов: Pandas\n",
    "Базовым стеком для разработки финансовых приложений являются библиотеки: Pandas, NumPy, SciPy, Matplotlib\n",
    "\n",
    "### Импорт финансовых данных\n",
    "Пакет pandas-datareader позволяет получать данные из таких источников, как Google, Yahoo! Finance или Всемирный банк — подробнее о доступных источниках данных написано в [документации](https://pandas-datareader.readthedocs.io/en/latest/remote_data.html \"документация\"). В этом руководстве будет рассматриваться получение данных с сервиса Yahoo! Finance. Для начала работы необходимо установить последнюю версию пакета с помощью pip:\n",
    "\n",
    "    pip install pandas-datareader\n",
    "\n",
    "Импортируем библиотеку и, воспользовавшись методом <code>get_data_yahoo()</code>, достанем информацию о акциях компании Apple.\n",
    "\n",
    "Данные содержат четыре столбца с ценой открытия и закрытия торгового периода, а также максимальной и минимальной ценой — мы рассматриваем дневные интервалы и акции Apple. Также мы получаем два дополнительных столбца: Volume и Adj Close. Первый из них используется для того, чтобы зафиксировать количество акций, с которыми совершались сделки в торговый день. Второй столбец — это «отрегулированная» цена закрытия (adjusted closing price), это значит, что в цену закрытия периода были добавлены все действия с акциями, которые могли быть совершены до момента открытия следующего торгового дня."
   ]
  },
  {
   "cell_type": "code",
   "execution_count": 2,
   "metadata": {},
   "outputs": [
    {
     "data": {
      "text/html": [
       "<div>\n",
       "<style scoped>\n",
       "    .dataframe tbody tr th:only-of-type {\n",
       "        vertical-align: middle;\n",
       "    }\n",
       "\n",
       "    .dataframe tbody tr th {\n",
       "        vertical-align: top;\n",
       "    }\n",
       "\n",
       "    .dataframe thead th {\n",
       "        text-align: right;\n",
       "    }\n",
       "</style>\n",
       "<table border=\"1\" class=\"dataframe\">\n",
       "  <thead>\n",
       "    <tr style=\"text-align: right;\">\n",
       "      <th></th>\n",
       "      <th>High</th>\n",
       "      <th>Low</th>\n",
       "      <th>Open</th>\n",
       "      <th>Close</th>\n",
       "      <th>Volume</th>\n",
       "      <th>Adj Close</th>\n",
       "    </tr>\n",
       "    <tr>\n",
       "      <th>Date</th>\n",
       "      <th></th>\n",
       "      <th></th>\n",
       "      <th></th>\n",
       "      <th></th>\n",
       "      <th></th>\n",
       "      <th></th>\n",
       "    </tr>\n",
       "  </thead>\n",
       "  <tbody>\n",
       "    <tr>\n",
       "      <th>2011-01-03</th>\n",
       "      <td>11.795000</td>\n",
       "      <td>11.601429</td>\n",
       "      <td>11.630000</td>\n",
       "      <td>11.770357</td>\n",
       "      <td>445138400.0</td>\n",
       "      <td>10.033264</td>\n",
       "    </tr>\n",
       "    <tr>\n",
       "      <th>2011-01-04</th>\n",
       "      <td>11.875000</td>\n",
       "      <td>11.719643</td>\n",
       "      <td>11.872857</td>\n",
       "      <td>11.831786</td>\n",
       "      <td>309080800.0</td>\n",
       "      <td>10.085626</td>\n",
       "    </tr>\n",
       "    <tr>\n",
       "      <th>2011-01-05</th>\n",
       "      <td>11.940714</td>\n",
       "      <td>11.767857</td>\n",
       "      <td>11.769643</td>\n",
       "      <td>11.928571</td>\n",
       "      <td>255519600.0</td>\n",
       "      <td>10.168129</td>\n",
       "    </tr>\n",
       "    <tr>\n",
       "      <th>2011-01-06</th>\n",
       "      <td>11.973214</td>\n",
       "      <td>11.889286</td>\n",
       "      <td>11.954286</td>\n",
       "      <td>11.918929</td>\n",
       "      <td>300428800.0</td>\n",
       "      <td>10.159906</td>\n",
       "    </tr>\n",
       "    <tr>\n",
       "      <th>2011-01-07</th>\n",
       "      <td>12.012500</td>\n",
       "      <td>11.853571</td>\n",
       "      <td>11.928214</td>\n",
       "      <td>12.004286</td>\n",
       "      <td>311931200.0</td>\n",
       "      <td>10.232665</td>\n",
       "    </tr>\n",
       "  </tbody>\n",
       "</table>\n",
       "</div>"
      ],
      "text/plain": [
       "                 High        Low       Open      Close       Volume  Adj Close\n",
       "Date                                                                          \n",
       "2011-01-03  11.795000  11.601429  11.630000  11.770357  445138400.0  10.033264\n",
       "2011-01-04  11.875000  11.719643  11.872857  11.831786  309080800.0  10.085626\n",
       "2011-01-05  11.940714  11.767857  11.769643  11.928571  255519600.0  10.168129\n",
       "2011-01-06  11.973214  11.889286  11.954286  11.918929  300428800.0  10.159906\n",
       "2011-01-07  12.012500  11.853571  11.928214  12.004286  311931200.0  10.232665"
      ]
     },
     "execution_count": 2,
     "metadata": {},
     "output_type": "execute_result"
    }
   ],
   "source": [
    "import pandas_datareader as pdr\n",
    "import datetime\n",
    "\n",
    "aapl = pdr.get_data_yahoo(\n",
    "    'AAPL', # тикер компании Apple\n",
    "    start=datetime.datetime(2011, 1, 1), # начало периода\n",
    "    end=datetime.datetime(2015, 3, 1) # конец периода\n",
    ")\n",
    "\n",
    "aapl.head()"
   ]
  },
  {
   "cell_type": "code",
   "execution_count": 3,
   "metadata": {},
   "outputs": [
    {
     "name": "stdout",
     "output_type": "stream",
     "text": [
      "DatetimeIndex(['2011-01-03', '2011-01-04', '2011-01-05', '2011-01-06',\n",
      "               '2011-01-07', '2011-01-10', '2011-01-11', '2011-01-12',\n",
      "               '2011-01-13', '2011-01-14',\n",
      "               ...\n",
      "               '2015-02-13', '2015-02-17', '2015-02-18', '2015-02-19',\n",
      "               '2015-02-20', '2015-02-23', '2015-02-24', '2015-02-25',\n",
      "               '2015-02-26', '2015-02-27'],\n",
      "              dtype='datetime64[ns]', name='Date', length=1045, freq=None)\n",
      "\n",
      "Index(['High', 'Low', 'Open', 'Close', 'Volume', 'Adj Close'], dtype='object')\n",
      "\n",
      "<class 'pandas.core.frame.DataFrame'>\n"
     ]
    }
   ],
   "source": [
    "print(aapl.index)  # индексы\n",
    "print()\n",
    "print(aapl.columns) # колонки\n",
    "print()\n",
    "print(type(aapl)) # тип данных"
   ]
  },
  {
   "cell_type": "code",
   "execution_count": 4,
   "metadata": {},
   "outputs": [
    {
     "data": {
      "text/html": [
       "<div>\n",
       "<style scoped>\n",
       "    .dataframe tbody tr th:only-of-type {\n",
       "        vertical-align: middle;\n",
       "    }\n",
       "\n",
       "    .dataframe tbody tr th {\n",
       "        vertical-align: top;\n",
       "    }\n",
       "\n",
       "    .dataframe thead th {\n",
       "        text-align: right;\n",
       "    }\n",
       "</style>\n",
       "<table border=\"1\" class=\"dataframe\">\n",
       "  <thead>\n",
       "    <tr style=\"text-align: right;\">\n",
       "      <th></th>\n",
       "      <th>Open</th>\n",
       "      <th>Close</th>\n",
       "    </tr>\n",
       "    <tr>\n",
       "      <th>Date</th>\n",
       "      <th></th>\n",
       "      <th></th>\n",
       "    </tr>\n",
       "  </thead>\n",
       "  <tbody>\n",
       "    <tr>\n",
       "      <th>2011-01-03</th>\n",
       "      <td>11.630000</td>\n",
       "      <td>11.770357</td>\n",
       "    </tr>\n",
       "    <tr>\n",
       "      <th>2011-01-04</th>\n",
       "      <td>11.872857</td>\n",
       "      <td>11.831786</td>\n",
       "    </tr>\n",
       "    <tr>\n",
       "      <th>2011-01-05</th>\n",
       "      <td>11.769643</td>\n",
       "      <td>11.928571</td>\n",
       "    </tr>\n",
       "    <tr>\n",
       "      <th>2011-01-06</th>\n",
       "      <td>11.954286</td>\n",
       "      <td>11.918929</td>\n",
       "    </tr>\n",
       "    <tr>\n",
       "      <th>2011-01-07</th>\n",
       "      <td>11.928214</td>\n",
       "      <td>12.004286</td>\n",
       "    </tr>\n",
       "    <tr>\n",
       "      <th>2011-01-10</th>\n",
       "      <td>12.101071</td>\n",
       "      <td>12.230357</td>\n",
       "    </tr>\n",
       "    <tr>\n",
       "      <th>2011-01-11</th>\n",
       "      <td>12.317143</td>\n",
       "      <td>12.201429</td>\n",
       "    </tr>\n",
       "    <tr>\n",
       "      <th>2011-01-12</th>\n",
       "      <td>12.258929</td>\n",
       "      <td>12.300714</td>\n",
       "    </tr>\n",
       "    <tr>\n",
       "      <th>2011-01-13</th>\n",
       "      <td>12.327143</td>\n",
       "      <td>12.345714</td>\n",
       "    </tr>\n",
       "    <tr>\n",
       "      <th>2011-01-14</th>\n",
       "      <td>12.353214</td>\n",
       "      <td>12.445714</td>\n",
       "    </tr>\n",
       "  </tbody>\n",
       "</table>\n",
       "</div>"
      ],
      "text/plain": [
       "                 Open      Close\n",
       "Date                            \n",
       "2011-01-03  11.630000  11.770357\n",
       "2011-01-04  11.872857  11.831786\n",
       "2011-01-05  11.769643  11.928571\n",
       "2011-01-06  11.954286  11.918929\n",
       "2011-01-07  11.928214  12.004286\n",
       "2011-01-10  12.101071  12.230357\n",
       "2011-01-11  12.317143  12.201429\n",
       "2011-01-12  12.258929  12.300714\n",
       "2011-01-13  12.327143  12.345714\n",
       "2011-01-14  12.353214  12.445714"
      ]
     },
     "execution_count": 4,
     "metadata": {},
     "output_type": "execute_result"
    }
   ],
   "source": [
    "aapl.iloc[0:10,2:4]"
   ]
  },
  {
   "cell_type": "code",
   "execution_count": 5,
   "metadata": {},
   "outputs": [
    {
     "data": {
      "text/html": [
       "<div>\n",
       "<style scoped>\n",
       "    .dataframe tbody tr th:only-of-type {\n",
       "        vertical-align: middle;\n",
       "    }\n",
       "\n",
       "    .dataframe tbody tr th {\n",
       "        vertical-align: top;\n",
       "    }\n",
       "\n",
       "    .dataframe thead th {\n",
       "        text-align: right;\n",
       "    }\n",
       "</style>\n",
       "<table border=\"1\" class=\"dataframe\">\n",
       "  <thead>\n",
       "    <tr style=\"text-align: right;\">\n",
       "      <th></th>\n",
       "      <th>High</th>\n",
       "      <th>Low</th>\n",
       "      <th>Open</th>\n",
       "      <th>Close</th>\n",
       "      <th>Volume</th>\n",
       "      <th>Adj Close</th>\n",
       "    </tr>\n",
       "    <tr>\n",
       "      <th>Date</th>\n",
       "      <th></th>\n",
       "      <th></th>\n",
       "      <th></th>\n",
       "      <th></th>\n",
       "      <th></th>\n",
       "      <th></th>\n",
       "    </tr>\n",
       "  </thead>\n",
       "  <tbody>\n",
       "    <tr>\n",
       "      <th>2011-01-03</th>\n",
       "      <td>11.795000</td>\n",
       "      <td>11.601429</td>\n",
       "      <td>11.630000</td>\n",
       "      <td>11.770357</td>\n",
       "      <td>445138400.0</td>\n",
       "      <td>10.033264</td>\n",
       "    </tr>\n",
       "    <tr>\n",
       "      <th>2011-01-04</th>\n",
       "      <td>11.875000</td>\n",
       "      <td>11.719643</td>\n",
       "      <td>11.872857</td>\n",
       "      <td>11.831786</td>\n",
       "      <td>309080800.0</td>\n",
       "      <td>10.085626</td>\n",
       "    </tr>\n",
       "    <tr>\n",
       "      <th>2011-01-05</th>\n",
       "      <td>11.940714</td>\n",
       "      <td>11.767857</td>\n",
       "      <td>11.769643</td>\n",
       "      <td>11.928571</td>\n",
       "      <td>255519600.0</td>\n",
       "      <td>10.168129</td>\n",
       "    </tr>\n",
       "    <tr>\n",
       "      <th>2011-01-06</th>\n",
       "      <td>11.973214</td>\n",
       "      <td>11.889286</td>\n",
       "      <td>11.954286</td>\n",
       "      <td>11.918929</td>\n",
       "      <td>300428800.0</td>\n",
       "      <td>10.159906</td>\n",
       "    </tr>\n",
       "    <tr>\n",
       "      <th>2011-01-07</th>\n",
       "      <td>12.012500</td>\n",
       "      <td>11.853571</td>\n",
       "      <td>11.928214</td>\n",
       "      <td>12.004286</td>\n",
       "      <td>311931200.0</td>\n",
       "      <td>10.232665</td>\n",
       "    </tr>\n",
       "  </tbody>\n",
       "</table>\n",
       "</div>"
      ],
      "text/plain": [
       "                 High        Low       Open      Close       Volume  Adj Close\n",
       "Date                                                                          \n",
       "2011-01-03  11.795000  11.601429  11.630000  11.770357  445138400.0  10.033264\n",
       "2011-01-04  11.875000  11.719643  11.872857  11.831786  309080800.0  10.085626\n",
       "2011-01-05  11.940714  11.767857  11.769643  11.928571  255519600.0  10.168129\n",
       "2011-01-06  11.973214  11.889286  11.954286  11.918929  300428800.0  10.159906\n",
       "2011-01-07  12.012500  11.853571  11.928214  12.004286  311931200.0  10.232665"
      ]
     },
     "execution_count": 5,
     "metadata": {},
     "output_type": "execute_result"
    }
   ],
   "source": [
    "aapl.loc[aapl.Open >= 11.630000].head()"
   ]
  },
  {
   "cell_type": "markdown",
   "metadata": {},
   "source": [
    "Если внимательно взглянуть на результаты процедуры разбиения, то станет видно, что в данных пропущены определенные дни. Дальнейший анализ паттерна покажет, что обычно не хватает двух или трех дней. Это выходные дни и государственные праздники, во время которых нет биржевых торгов.\n",
    "\n",
    "Помимо индексирования есть несколько способов узнать о данных больше. Можно, к примеру, попробовать создать семпл из 20 строк данных, а затем переформатировать их таким образом, чтобы appl стал не дневным значением и месячным."
   ]
  },
  {
   "cell_type": "code",
   "execution_count": 8,
   "metadata": {},
   "outputs": [
    {
     "data": {
      "text/html": [
       "<div>\n",
       "<style scoped>\n",
       "    .dataframe tbody tr th:only-of-type {\n",
       "        vertical-align: middle;\n",
       "    }\n",
       "\n",
       "    .dataframe tbody tr th {\n",
       "        vertical-align: top;\n",
       "    }\n",
       "\n",
       "    .dataframe thead th {\n",
       "        text-align: right;\n",
       "    }\n",
       "</style>\n",
       "<table border=\"1\" class=\"dataframe\">\n",
       "  <thead>\n",
       "    <tr style=\"text-align: right;\">\n",
       "      <th></th>\n",
       "      <th>High</th>\n",
       "      <th>Low</th>\n",
       "      <th>Open</th>\n",
       "      <th>Close</th>\n",
       "      <th>Volume</th>\n",
       "      <th>Adj Close</th>\n",
       "    </tr>\n",
       "    <tr>\n",
       "      <th>Date</th>\n",
       "      <th></th>\n",
       "      <th></th>\n",
       "      <th></th>\n",
       "      <th></th>\n",
       "      <th></th>\n",
       "      <th></th>\n",
       "    </tr>\n",
       "  </thead>\n",
       "  <tbody>\n",
       "    <tr>\n",
       "      <th>2011-03-25</th>\n",
       "      <td>12.573571</td>\n",
       "      <td>12.393571</td>\n",
       "      <td>12.431071</td>\n",
       "      <td>12.555000</td>\n",
       "      <td>448910000.0</td>\n",
       "      <td>10.702107</td>\n",
       "    </tr>\n",
       "    <tr>\n",
       "      <th>2011-07-12</th>\n",
       "      <td>12.774286</td>\n",
       "      <td>12.450714</td>\n",
       "      <td>12.626071</td>\n",
       "      <td>12.633929</td>\n",
       "      <td>451609200.0</td>\n",
       "      <td>10.769385</td>\n",
       "    </tr>\n",
       "    <tr>\n",
       "      <th>2012-03-16</th>\n",
       "      <td>21.042856</td>\n",
       "      <td>20.642857</td>\n",
       "      <td>20.882856</td>\n",
       "      <td>20.913214</td>\n",
       "      <td>825487600.0</td>\n",
       "      <td>17.826803</td>\n",
       "    </tr>\n",
       "    <tr>\n",
       "      <th>2013-09-20</th>\n",
       "      <td>17.091070</td>\n",
       "      <td>16.642857</td>\n",
       "      <td>17.071428</td>\n",
       "      <td>16.693214</td>\n",
       "      <td>699302800.0</td>\n",
       "      <td>14.631176</td>\n",
       "    </tr>\n",
       "    <tr>\n",
       "      <th>2011-06-03</th>\n",
       "      <td>12.333214</td>\n",
       "      <td>12.214643</td>\n",
       "      <td>12.256429</td>\n",
       "      <td>12.265714</td>\n",
       "      <td>313250000.0</td>\n",
       "      <td>10.455512</td>\n",
       "    </tr>\n",
       "  </tbody>\n",
       "</table>\n",
       "</div>"
      ],
      "text/plain": [
       "                 High        Low       Open      Close       Volume  Adj Close\n",
       "Date                                                                          \n",
       "2011-03-25  12.573571  12.393571  12.431071  12.555000  448910000.0  10.702107\n",
       "2011-07-12  12.774286  12.450714  12.626071  12.633929  451609200.0  10.769385\n",
       "2012-03-16  21.042856  20.642857  20.882856  20.913214  825487600.0  17.826803\n",
       "2013-09-20  17.091070  16.642857  17.071428  16.693214  699302800.0  14.631176\n",
       "2011-06-03  12.333214  12.214643  12.256429  12.265714  313250000.0  10.455512"
      ]
     },
     "execution_count": 8,
     "metadata": {},
     "output_type": "execute_result"
    }
   ],
   "source": [
    "# Выборка из 20 строк\n",
    "sample = aapl.sample(20)\n",
    "sample.head()"
   ]
  },
  {
   "cell_type": "code",
   "execution_count": 10,
   "metadata": {},
   "outputs": [
    {
     "data": {
      "text/html": [
       "<div>\n",
       "<style scoped>\n",
       "    .dataframe tbody tr th:only-of-type {\n",
       "        vertical-align: middle;\n",
       "    }\n",
       "\n",
       "    .dataframe tbody tr th {\n",
       "        vertical-align: top;\n",
       "    }\n",
       "\n",
       "    .dataframe thead th {\n",
       "        text-align: right;\n",
       "    }\n",
       "</style>\n",
       "<table border=\"1\" class=\"dataframe\">\n",
       "  <thead>\n",
       "    <tr style=\"text-align: right;\">\n",
       "      <th></th>\n",
       "      <th>High</th>\n",
       "      <th>Low</th>\n",
       "      <th>Open</th>\n",
       "      <th>Close</th>\n",
       "      <th>Volume</th>\n",
       "      <th>Adj Close</th>\n",
       "    </tr>\n",
       "    <tr>\n",
       "      <th>Date</th>\n",
       "      <th></th>\n",
       "      <th></th>\n",
       "      <th></th>\n",
       "      <th></th>\n",
       "      <th></th>\n",
       "      <th></th>\n",
       "    </tr>\n",
       "  </thead>\n",
       "  <tbody>\n",
       "    <tr>\n",
       "      <th>2011-01-31</th>\n",
       "      <td>12.172500</td>\n",
       "      <td>11.941607</td>\n",
       "      <td>12.057732</td>\n",
       "      <td>12.085000</td>\n",
       "      <td>5.420768e+08</td>\n",
       "      <td>10.301470</td>\n",
       "    </tr>\n",
       "    <tr>\n",
       "      <th>2011-02-28</th>\n",
       "      <td>12.613158</td>\n",
       "      <td>12.432726</td>\n",
       "      <td>12.511786</td>\n",
       "      <td>12.542237</td>\n",
       "      <td>4.892605e+08</td>\n",
       "      <td>10.691227</td>\n",
       "    </tr>\n",
       "    <tr>\n",
       "      <th>2011-03-31</th>\n",
       "      <td>12.512112</td>\n",
       "      <td>12.295606</td>\n",
       "      <td>12.430031</td>\n",
       "      <td>12.410388</td>\n",
       "      <td>4.915852e+08</td>\n",
       "      <td>10.578837</td>\n",
       "    </tr>\n",
       "    <tr>\n",
       "      <th>2011-04-30</th>\n",
       "      <td>12.274964</td>\n",
       "      <td>12.066518</td>\n",
       "      <td>12.189643</td>\n",
       "      <td>12.157697</td>\n",
       "      <td>4.626915e+08</td>\n",
       "      <td>10.363438</td>\n",
       "    </tr>\n",
       "    <tr>\n",
       "      <th>2011-05-31</th>\n",
       "      <td>12.295850</td>\n",
       "      <td>12.121905</td>\n",
       "      <td>12.213793</td>\n",
       "      <td>12.206599</td>\n",
       "      <td>3.291457e+08</td>\n",
       "      <td>10.405123</td>\n",
       "    </tr>\n",
       "  </tbody>\n",
       "</table>\n",
       "</div>"
      ],
      "text/plain": [
       "                 High        Low       Open      Close        Volume  \\\n",
       "Date                                                                   \n",
       "2011-01-31  12.172500  11.941607  12.057732  12.085000  5.420768e+08   \n",
       "2011-02-28  12.613158  12.432726  12.511786  12.542237  4.892605e+08   \n",
       "2011-03-31  12.512112  12.295606  12.430031  12.410388  4.915852e+08   \n",
       "2011-04-30  12.274964  12.066518  12.189643  12.157697  4.626915e+08   \n",
       "2011-05-31  12.295850  12.121905  12.213793  12.206599  3.291457e+08   \n",
       "\n",
       "            Adj Close  \n",
       "Date                   \n",
       "2011-01-31  10.301470  \n",
       "2011-02-28  10.691227  \n",
       "2011-03-31  10.578837  \n",
       "2011-04-30  10.363438  \n",
       "2011-05-31  10.405123  "
      ]
     },
     "execution_count": 10,
     "metadata": {},
     "output_type": "execute_result"
    }
   ],
   "source": [
    "# Группировать по месяцу с агрегацией по средней\n",
    "monthly_aapl = aapl.resample('M').mean()\n",
    "monthly_aapl.head()"
   ]
  },
  {
   "cell_type": "markdown",
   "metadata": {},
   "source": [
    "Прежде чем перейти к визуализации данных и проведению финансового анализа, можно начать вычислять разницу между ценами открытия и закрытия торгового периода."
   ]
  },
  {
   "cell_type": "code",
   "execution_count": 14,
   "metadata": {},
   "outputs": [
    {
     "data": {
      "text/html": [
       "<div>\n",
       "<style scoped>\n",
       "    .dataframe tbody tr th:only-of-type {\n",
       "        vertical-align: middle;\n",
       "    }\n",
       "\n",
       "    .dataframe tbody tr th {\n",
       "        vertical-align: top;\n",
       "    }\n",
       "\n",
       "    .dataframe thead th {\n",
       "        text-align: right;\n",
       "    }\n",
       "</style>\n",
       "<table border=\"1\" class=\"dataframe\">\n",
       "  <thead>\n",
       "    <tr style=\"text-align: right;\">\n",
       "      <th></th>\n",
       "      <th>High</th>\n",
       "      <th>Low</th>\n",
       "      <th>Open</th>\n",
       "      <th>Close</th>\n",
       "      <th>Volume</th>\n",
       "      <th>Adj Close</th>\n",
       "      <th>diff</th>\n",
       "    </tr>\n",
       "    <tr>\n",
       "      <th>Date</th>\n",
       "      <th></th>\n",
       "      <th></th>\n",
       "      <th></th>\n",
       "      <th></th>\n",
       "      <th></th>\n",
       "      <th></th>\n",
       "      <th></th>\n",
       "    </tr>\n",
       "  </thead>\n",
       "  <tbody>\n",
       "    <tr>\n",
       "      <th>2011-01-03</th>\n",
       "      <td>11.795000</td>\n",
       "      <td>11.601429</td>\n",
       "      <td>11.630000</td>\n",
       "      <td>11.770357</td>\n",
       "      <td>445138400.0</td>\n",
       "      <td>10.033264</td>\n",
       "      <td>-0.140357</td>\n",
       "    </tr>\n",
       "    <tr>\n",
       "      <th>2011-01-04</th>\n",
       "      <td>11.875000</td>\n",
       "      <td>11.719643</td>\n",
       "      <td>11.872857</td>\n",
       "      <td>11.831786</td>\n",
       "      <td>309080800.0</td>\n",
       "      <td>10.085626</td>\n",
       "      <td>0.041071</td>\n",
       "    </tr>\n",
       "    <tr>\n",
       "      <th>2011-01-05</th>\n",
       "      <td>11.940714</td>\n",
       "      <td>11.767857</td>\n",
       "      <td>11.769643</td>\n",
       "      <td>11.928571</td>\n",
       "      <td>255519600.0</td>\n",
       "      <td>10.168129</td>\n",
       "      <td>-0.158928</td>\n",
       "    </tr>\n",
       "    <tr>\n",
       "      <th>2011-01-06</th>\n",
       "      <td>11.973214</td>\n",
       "      <td>11.889286</td>\n",
       "      <td>11.954286</td>\n",
       "      <td>11.918929</td>\n",
       "      <td>300428800.0</td>\n",
       "      <td>10.159906</td>\n",
       "      <td>0.035357</td>\n",
       "    </tr>\n",
       "    <tr>\n",
       "      <th>2011-01-07</th>\n",
       "      <td>12.012500</td>\n",
       "      <td>11.853571</td>\n",
       "      <td>11.928214</td>\n",
       "      <td>12.004286</td>\n",
       "      <td>311931200.0</td>\n",
       "      <td>10.232665</td>\n",
       "      <td>-0.076072</td>\n",
       "    </tr>\n",
       "  </tbody>\n",
       "</table>\n",
       "</div>"
      ],
      "text/plain": [
       "                 High        Low       Open      Close       Volume  \\\n",
       "Date                                                                  \n",
       "2011-01-03  11.795000  11.601429  11.630000  11.770357  445138400.0   \n",
       "2011-01-04  11.875000  11.719643  11.872857  11.831786  309080800.0   \n",
       "2011-01-05  11.940714  11.767857  11.769643  11.928571  255519600.0   \n",
       "2011-01-06  11.973214  11.889286  11.954286  11.918929  300428800.0   \n",
       "2011-01-07  12.012500  11.853571  11.928214  12.004286  311931200.0   \n",
       "\n",
       "            Adj Close      diff  \n",
       "Date                             \n",
       "2011-01-03  10.033264 -0.140357  \n",
       "2011-01-04  10.085626  0.041071  \n",
       "2011-01-05  10.168129 -0.158928  \n",
       "2011-01-06  10.159906  0.035357  \n",
       "2011-01-07  10.232665 -0.076072  "
      ]
     },
     "execution_count": 14,
     "metadata": {},
     "output_type": "execute_result"
    }
   ],
   "source": [
    "# Добавляем новую колонку `diff` в `aapl` \n",
    "aapl['diff'] = aapl.Open - aapl.Close\n",
    "aapl.head()"
   ]
  },
  {
   "cell_type": "code",
   "execution_count": 15,
   "metadata": {},
   "outputs": [
    {
     "data": {
      "text/html": [
       "<div>\n",
       "<style scoped>\n",
       "    .dataframe tbody tr th:only-of-type {\n",
       "        vertical-align: middle;\n",
       "    }\n",
       "\n",
       "    .dataframe tbody tr th {\n",
       "        vertical-align: top;\n",
       "    }\n",
       "\n",
       "    .dataframe thead th {\n",
       "        text-align: right;\n",
       "    }\n",
       "</style>\n",
       "<table border=\"1\" class=\"dataframe\">\n",
       "  <thead>\n",
       "    <tr style=\"text-align: right;\">\n",
       "      <th></th>\n",
       "      <th>High</th>\n",
       "      <th>Low</th>\n",
       "      <th>Open</th>\n",
       "      <th>Close</th>\n",
       "      <th>Volume</th>\n",
       "      <th>Adj Close</th>\n",
       "    </tr>\n",
       "    <tr>\n",
       "      <th>Date</th>\n",
       "      <th></th>\n",
       "      <th></th>\n",
       "      <th></th>\n",
       "      <th></th>\n",
       "      <th></th>\n",
       "      <th></th>\n",
       "    </tr>\n",
       "  </thead>\n",
       "  <tbody>\n",
       "    <tr>\n",
       "      <th>2011-01-03</th>\n",
       "      <td>11.795000</td>\n",
       "      <td>11.601429</td>\n",
       "      <td>11.630000</td>\n",
       "      <td>11.770357</td>\n",
       "      <td>445138400.0</td>\n",
       "      <td>10.033264</td>\n",
       "    </tr>\n",
       "    <tr>\n",
       "      <th>2011-01-04</th>\n",
       "      <td>11.875000</td>\n",
       "      <td>11.719643</td>\n",
       "      <td>11.872857</td>\n",
       "      <td>11.831786</td>\n",
       "      <td>309080800.0</td>\n",
       "      <td>10.085626</td>\n",
       "    </tr>\n",
       "    <tr>\n",
       "      <th>2011-01-05</th>\n",
       "      <td>11.940714</td>\n",
       "      <td>11.767857</td>\n",
       "      <td>11.769643</td>\n",
       "      <td>11.928571</td>\n",
       "      <td>255519600.0</td>\n",
       "      <td>10.168129</td>\n",
       "    </tr>\n",
       "    <tr>\n",
       "      <th>2011-01-06</th>\n",
       "      <td>11.973214</td>\n",
       "      <td>11.889286</td>\n",
       "      <td>11.954286</td>\n",
       "      <td>11.918929</td>\n",
       "      <td>300428800.0</td>\n",
       "      <td>10.159906</td>\n",
       "    </tr>\n",
       "    <tr>\n",
       "      <th>2011-01-07</th>\n",
       "      <td>12.012500</td>\n",
       "      <td>11.853571</td>\n",
       "      <td>11.928214</td>\n",
       "      <td>12.004286</td>\n",
       "      <td>311931200.0</td>\n",
       "      <td>10.232665</td>\n",
       "    </tr>\n",
       "  </tbody>\n",
       "</table>\n",
       "</div>"
      ],
      "text/plain": [
       "                 High        Low       Open      Close       Volume  Adj Close\n",
       "Date                                                                          \n",
       "2011-01-03  11.795000  11.601429  11.630000  11.770357  445138400.0  10.033264\n",
       "2011-01-04  11.875000  11.719643  11.872857  11.831786  309080800.0  10.085626\n",
       "2011-01-05  11.940714  11.767857  11.769643  11.928571  255519600.0  10.168129\n",
       "2011-01-06  11.973214  11.889286  11.954286  11.918929  300428800.0  10.159906\n",
       "2011-01-07  12.012500  11.853571  11.928214  12.004286  311931200.0  10.232665"
      ]
     },
     "execution_count": 15,
     "metadata": {},
     "output_type": "execute_result"
    }
   ],
   "source": [
    "# удаляем новую колонку\n",
    "aapl = aapl.drop('diff', axis=1)\n",
    "aapl.head()"
   ]
  },
  {
   "cell_type": "markdown",
   "metadata": {},
   "source": [
    "### Визуализация данных временных рядов\n",
    "Благодаря интеграции Pandas с инструментом для создания графиков Matplotlib визуализировать данные довольно легко. Нужно лишь использовать функцию plot() и передать ей релевантные параметры. Кроме того, если добавить параметр grid, то получившийся график будет наложен на сетку."
   ]
  },
  {
   "cell_type": "code",
   "execution_count": 26,
   "metadata": {},
   "outputs": [],
   "source": [
    "aapl = pdr.get_data_yahoo(\n",
    "    'AAPL',\n",
    "    start=datetime.datetime(2011, 1, 1),\n",
    "    end=datetime.datetime(2012, 1, 1)\n",
    ")"
   ]
  },
  {
   "cell_type": "code",
   "execution_count": 27,
   "metadata": {},
   "outputs": [
    {
     "data": {
      "image/png": "[encoded data removed]",
      "text/plain": [
       "<Figure size 1600x500 with 1 Axes>"
      ]
     },
     "metadata": {},
     "output_type": "display_data"
    }
   ],
   "source": [
    "import matplotlib.pyplot as plt\n",
    "\n",
    "data = aapl['Close'].resample('W')\n",
    "\n",
    "plt.figure(figsize=(16,5)) \n",
    "data.mean().plot(grid=True)\n",
    "plt.show()"
   ]
  },
  {
   "cell_type": "markdown",
   "metadata": {},
   "source": [
    "Однако как указывалось выше финансовые данные лучше визуализировать с помощью \"японских свеч\"."
   ]
  },
  {
   "cell_type": "code",
   "execution_count": 28,
   "metadata": {},
   "outputs": [
    {
     "data": {
      "application/vnd.plotly.v1+json": {
       "config": {
        "plotlyServerURL": "https://plot.ly"
       },
       "data": [
        {
         "close": [
          11.890785789489746,
          12.304785537719727,
          11.95437502861023,
          12.157214164733887,
          12.275785636901855,
          12.690214347839355,
          12.793357276916504,
          12.252410888671875,
          12.672857284545898,
          12.587499809265136,
          12.102214431762695,
          12.258571434020997,
          12.450713920593262,
          12.08042869567871,
          11.851500320434571,
          12.168035745620728,
          12.503285980224609,
          12.410428619384765,
          12.366785430908203,
          12.036142921447754,
          11.969857025146485,
          12.347142457962036,
          11.855071449279786,
          11.651499938964843,
          11.577214431762695,
          12.001928329467773,
          12.661607027053833,
          12.774714469909668,
          13.701000213623047,
          14.120000076293945,
          13.780142784118652,
          13.154286003112793,
          13.331499671936035,
          13.310857391357422,
          13.713357162475585,
          13.618661165237427,
          13.909428596496582,
          14.595285606384277,
          14.080928802490234,
          13.375142669677734,
          14.440857315063477,
          14.493071365356446,
          14.384142684936524,
          14.300071334838867,
          14.079142761230468,
          13.608642959594727,
          13.179286003112793,
          13.636785507202148,
          13.980928230285645,
          13.719999694824219,
          14.117785835266114,
          14.457946300506592
         ],
         "high": [
          11.919285583496094,
          12.340999794006347,
          12.201249837875366,
          12.239857482910157,
          12.299142837524414,
          12.7540714263916,
          12.886571311950684,
          12.353749990463257,
          12.751428604125977,
          12.685143089294433,
          12.322357368469238,
          12.290285682678222,
          12.553928756713868,
          12.223785591125488,
          11.965571403503418,
          12.241874933242798,
          12.605642890930175,
          12.522428512573242,
          12.44471435546875,
          12.155500221252442,
          12.03542881011963,
          12.439910411834717,
          12.038571548461913,
          11.784214401245118,
          11.694571495056152,
          12.047142791748048,
          12.695803880691528,
          12.88614330291748,
          13.819142723083496,
          14.280571556091308,
          14.041214179992675,
          13.372285652160645,
          13.517928886413575,
          13.405214500427245,
          13.862571525573731,
          13.754821538925171,
          13.953285408020019,
          14.816000175476074,
          14.343357276916503,
          13.619856834411621,
          14.511928749084472,
          14.710143089294434,
          14.506785774230957,
          14.400785636901855,
          14.248571586608886,
          13.788999938964844,
          13.362500190734863,
          13.717571258544922,
          14.08228588104248,
          13.889785766601562,
          14.149786186218261,
          14.547053575515747
         ],
         "low": [
          11.766357040405273,
          12.192357444763184,
          11.782410621643066,
          11.993928909301758,
          12.149214363098144,
          12.544285774230957,
          12.719999885559082,
          12.13839316368103,
          12.577642822265625,
          12.457571601867675,
          11.988071632385253,
          12.115928268432617,
          12.380714225769044,
          12.010857200622558,
          11.797143173217773,
          11.981160879135132,
          12.420999908447266,
          12.358999824523925,
          12.293214416503906,
          11.950142669677735,
          11.873928642272949,
          12.249642848968506,
          11.832999992370606,
          11.549642753601074,
          11.366357231140137,
          11.854356956481933,
          12.459017753601074,
          12.666642761230468,
          13.54464282989502,
          13.954142951965332,
          13.592000198364257,
          12.924785614013672,
          13.210856819152832,
          12.989214134216308,
          13.63300018310547,
          13.444731712341309,
          13.734571266174317,
          14.392428779602051,
          13.951856994628907,
          13.057143020629884,
          14.199785614013672,
          14.390642738342285,
          14.216642951965332,
          14.170713996887207,
          13.959500122070313,
          13.516785621643066,
          13.098660469055176,
          13.486857032775879,
          13.912785720825195,
          13.657928466796875,
          13.966714096069335,
          14.360357284545898
         ],
         "name": "AAPL",
         "open": [
          11.830999946594238,
          12.271500205993652,
          12.036338806152344,
          12.100786018371583,
          12.207071495056152,
          12.635000228881836,
          12.80528564453125,
          12.233928918838501,
          12.670928764343262,
          12.610356712341309,
          12.22314281463623,
          12.198214530944824,
          12.49228572845459,
          12.14671459197998,
          11.911928367614745,
          12.122410774230957,
          12.494071578979492,
          12.457714080810547,
          12.411071395874023,
          12.066500282287597,
          11.926214408874511,
          12.31830382347107,
          11.99607162475586,
          11.73457145690918,
          11.496500015258789,
          11.913785552978515,
          12.499642848968506,
          12.788428497314452,
          13.677285766601562,
          14.072857093811034,
          13.973285675048828,
          13.162356758117676,
          13.403357124328613,
          13.103785514831543,
          13.76828556060791,
          13.564821481704712,
          13.779500007629395,
          14.522856903076171,
          14.270142745971679,
          13.3707857131958,
          14.291500091552734,
          14.592500114440918,
          14.38235683441162,
          14.293000030517579,
          14.162357139587403,
          13.68907127380371,
          13.253124713897705,
          13.584642791748047,
          14.001642799377441,
          13.821928405761719,
          14.025785446166992,
          14.436607122421265
         ],
         "showlegend": true,
         "type": "candlestick",
         "x": [
          "2011-01-09T00:00:00",
          "2011-01-16T00:00:00",
          "2011-01-23T00:00:00",
          "2011-01-30T00:00:00",
          "2011-02-06T00:00:00",
          "2011-02-13T00:00:00",
          "2011-02-20T00:00:00",
          "2011-02-27T00:00:00",
          "2011-03-06T00:00:00",
          "2011-03-13T00:00:00",
          "2011-03-20T00:00:00",
          "2011-03-27T00:00:00",
          "2011-04-03T00:00:00",
          "2011-04-10T00:00:00",
          "2011-04-17T00:00:00",
          "2011-04-24T00:00:00",
          "2011-05-01T00:00:00",
          "2011-05-08T00:00:00",
          "2011-05-15T00:00:00",
          "2011-05-22T00:00:00",
          "2011-05-29T00:00:00",
          "2011-06-05T00:00:00",
          "2011-06-12T00:00:00",
          "2011-06-19T00:00:00",
          "2011-06-26T00:00:00",
          "2011-07-03T00:00:00",
          "2011-07-10T00:00:00",
          "2011-07-17T00:00:00",
          "2011-07-24T00:00:00",
          "2011-07-31T00:00:00",
          "2011-08-07T00:00:00",
          "2011-08-14T00:00:00",
          "2011-08-21T00:00:00",
          "2011-08-28T00:00:00",
          "2011-09-04T00:00:00",
          "2011-09-11T00:00:00",
          "2011-09-18T00:00:00",
          "2011-09-25T00:00:00",
          "2011-10-02T00:00:00",
          "2011-10-09T00:00:00",
          "2011-10-16T00:00:00",
          "2011-10-23T00:00:00",
          "2011-10-30T00:00:00",
          "2011-11-06T00:00:00",
          "2011-11-13T00:00:00",
          "2011-11-20T00:00:00",
          "2011-11-27T00:00:00",
          "2011-12-04T00:00:00",
          "2011-12-11T00:00:00",
          "2011-12-18T00:00:00",
          "2011-12-25T00:00:00",
          "2012-01-01T00:00:00"
         ]
        }
       ],
       "layout": {
        "template": {
         "data": {
          "bar": [
           {
            "error_x": {
             "color": "#2a3f5f"
            },
            "error_y": {
             "color": "#2a3f5f"
            },
            "marker": {
             "line": {
              "color": "#E5ECF6",
              "width": 0.5
             },
             "pattern": {
              "fillmode": "overlay",
              "size": 10,
              "solidity": 0.2
             }
            },
            "type": "bar"
           }
          ],
          "barpolar": [
           {
            "marker": {
             "line": {
              "color": "#E5ECF6",
              "width": 0.5
             },
             "pattern": {
              "fillmode": "overlay",
              "size": 10,
              "solidity": 0.2
             }
            },
            "type": "barpolar"
           }
          ],
          "carpet": [
           {
            "aaxis": {
             "endlinecolor": "#2a3f5f",
             "gridcolor": "white",
             "linecolor": "white",
             "minorgridcolor": "white",
             "startlinecolor": "#2a3f5f"
            },
            "baxis": {
             "endlinecolor": "#2a3f5f",
             "gridcolor": "white",
             "linecolor": "white",
             "minorgridcolor": "white",
             "startlinecolor": "#2a3f5f"
            },
            "type": "carpet"
           }
          ],
          "choropleth": [
           {
            "colorbar": {
             "outlinewidth": 0,
             "ticks": ""
            },
            "type": "choropleth"
           }
          ],
          "contour": [
           {
            "colorbar": {
             "outlinewidth": 0,
             "ticks": ""
            },
            "colorscale": [
             [
              0,
              "#0d0887"
             ],
             [
              0.1111111111111111,
              "#46039f"
             ],
             [
              0.2222222222222222,
              "#7201a8"
             ],
             [
              0.3333333333333333,
              "#9c179e"
             ],
             [
              0.4444444444444444,
              "#bd3786"
             ],
             [
              0.5555555555555556,
              "#d8576b"
             ],
             [
              0.6666666666666666,
              "#ed7953"
             ],
             [
              0.7777777777777778,
              "#fb9f3a"
             ],
             [
              0.8888888888888888,
              "#fdca26"
             ],
             [
              1,
              "#f0f921"
             ]
            ],
            "type": "contour"
           }
          ],
          "contourcarpet": [
           {
            "colorbar": {
             "outlinewidth": 0,
             "ticks": ""
            },
            "type": "contourcarpet"
           }
          ],
          "heatmap": [
           {
            "colorbar": {
             "outlinewidth": 0,
             "ticks": ""
            },
            "colorscale": [
             [
              0,
              "#0d0887"
             ],
             [
              0.1111111111111111,
              "#46039f"
             ],
             [
              0.2222222222222222,
              "#7201a8"
             ],
             [
              0.3333333333333333,
              "#9c179e"
             ],
             [
              0.4444444444444444,
              "#bd3786"
             ],
             [
              0.5555555555555556,
              "#d8576b"
             ],
             [
              0.6666666666666666,
              "#ed7953"
             ],
             [
              0.7777777777777778,
              "#fb9f3a"
             ],
             [
              0.8888888888888888,
              "#fdca26"
             ],
             [
              1,
              "#f0f921"
             ]
            ],
            "type": "heatmap"
           }
          ],
          "heatmapgl": [
           {
            "colorbar": {
             "outlinewidth": 0,
             "ticks": ""
            },
            "colorscale": [
             [
              0,
              "#0d0887"
             ],
             [
              0.1111111111111111,
              "#46039f"
             ],
             [
              0.2222222222222222,
              "#7201a8"
             ],
             [
              0.3333333333333333,
              "#9c179e"
             ],
             [
              0.4444444444444444,
              "#bd3786"
             ],
             [
              0.5555555555555556,
              "#d8576b"
             ],
             [
              0.6666666666666666,
              "#ed7953"
             ],
             [
              0.7777777777777778,
              "#fb9f3a"
             ],
             [
              0.8888888888888888,
              "#fdca26"
             ],
             [
              1,
              "#f0f921"
             ]
            ],
            "type": "heatmapgl"
           }
          ],
          "histogram": [
           {
            "marker": {
             "pattern": {
              "fillmode": "overlay",
              "size": 10,
              "solidity": 0.2
             }
            },
            "type": "histogram"
           }
          ],
          "histogram2d": [
           {
            "colorbar": {
             "outlinewidth": 0,
             "ticks": ""
            },
            "colorscale": [
             [
              0,
              "#0d0887"
             ],
             [
              0.1111111111111111,
              "#46039f"
             ],
             [
              0.2222222222222222,
              "#7201a8"
             ],
             [
              0.3333333333333333,
              "#9c179e"
             ],
             [
              0.4444444444444444,
              "#bd3786"
             ],
             [
              0.5555555555555556,
              "#d8576b"
             ],
             [
              0.6666666666666666,
              "#ed7953"
             ],
             [
              0.7777777777777778,
              "#fb9f3a"
             ],
             [
              0.8888888888888888,
              "#fdca26"
             ],
             [
              1,
              "#f0f921"
             ]
            ],
            "type": "histogram2d"
           }
          ],
          "histogram2dcontour": [
           {
            "colorbar": {
             "outlinewidth": 0,
             "ticks": ""
            },
            "colorscale": [
             [
              0,
              "#0d0887"
             ],
             [
              0.1111111111111111,
              "#46039f"
             ],
             [
              0.2222222222222222,
              "#7201a8"
             ],
             [
              0.3333333333333333,
              "#9c179e"
             ],
             [
              0.4444444444444444,
              "#bd3786"
             ],
             [
              0.5555555555555556,
              "#d8576b"
             ],
             [
              0.6666666666666666,
              "#ed7953"
             ],
             [
              0.7777777777777778,
              "#fb9f3a"
             ],
             [
              0.8888888888888888,
              "#fdca26"
             ],
             [
              1,
              "#f0f921"
             ]
            ],
            "type": "histogram2dcontour"
           }
          ],
          "mesh3d": [
           {
            "colorbar": {
             "outlinewidth": 0,
             "ticks": ""
            },
            "type": "mesh3d"
           }
          ],
          "parcoords": [
           {
            "line": {
             "colorbar": {
              "outlinewidth": 0,
              "ticks": ""
             }
            },
            "type": "parcoords"
           }
          ],
          "pie": [
           {
            "automargin": true,
            "type": "pie"
           }
          ],
          "scatter": [
           {
            "fillpattern": {
             "fillmode": "overlay",
             "size": 10,
             "solidity": 0.2
            },
            "type": "scatter"
           }
          ],
          "scatter3d": [
           {
            "line": {
             "colorbar": {
              "outlinewidth": 0,
              "ticks": ""
             }
            },
            "marker": {
             "colorbar": {
              "outlinewidth": 0,
              "ticks": ""
             }
            },
            "type": "scatter3d"
           }
          ],
          "scattercarpet": [
           {
            "marker": {
             "colorbar": {
              "outlinewidth": 0,
              "ticks": ""
             }
            },
            "type": "scattercarpet"
           }
          ],
          "scattergeo": [
           {
            "marker": {
             "colorbar": {
              "outlinewidth": 0,
              "ticks": ""
             }
            },
            "type": "scattergeo"
           }
          ],
          "scattergl": [
           {
            "marker": {
             "colorbar": {
              "outlinewidth": 0,
              "ticks": ""
             }
            },
            "type": "scattergl"
           }
          ],
          "scattermapbox": [
           {
            "marker": {
             "colorbar": {
              "outlinewidth": 0,
              "ticks": ""
             }
            },
            "type": "scattermapbox"
           }
          ],
          "scatterpolar": [
           {
            "marker": {
             "colorbar": {
              "outlinewidth": 0,
              "ticks": ""
             }
            },
            "type": "scatterpolar"
           }
          ],
          "scatterpolargl": [
           {
            "marker": {
             "colorbar": {
              "outlinewidth": 0,
              "ticks": ""
             }
            },
            "type": "scatterpolargl"
           }
          ],
          "scatterternary": [
           {
            "marker": {
             "colorbar": {
              "outlinewidth": 0,
              "ticks": ""
             }
            },
            "type": "scatterternary"
           }
          ],
          "surface": [
           {
            "colorbar": {
             "outlinewidth": 0,
             "ticks": ""
            },
            "colorscale": [
             [
              0,
              "#0d0887"
             ],
             [
              0.1111111111111111,
              "#46039f"
             ],
             [
              0.2222222222222222,
              "#7201a8"
             ],
             [
              0.3333333333333333,
              "#9c179e"
             ],
             [
              0.4444444444444444,
              "#bd3786"
             ],
             [
              0.5555555555555556,
              "#d8576b"
             ],
             [
              0.6666666666666666,
              "#ed7953"
             ],
             [
              0.7777777777777778,
              "#fb9f3a"
             ],
             [
              0.8888888888888888,
              "#fdca26"
             ],
             [
              1,
              "#f0f921"
             ]
            ],
            "type": "surface"
           }
          ],
          "table": [
           {
            "cells": {
             "fill": {
              "color": "#EBF0F8"
             },
             "line": {
              "color": "white"
             }
            },
            "header": {
             "fill": {
              "color": "#C8D4E3"
             },
             "line": {
              "color": "white"
             }
            },
            "type": "table"
           }
          ]
         },
         "layout": {
          "annotationdefaults": {
           "arrowcolor": "#2a3f5f",
           "arrowhead": 0,
           "arrowwidth": 1
          },
          "autotypenumbers": "strict",
          "coloraxis": {
           "colorbar": {
            "outlinewidth": 0,
            "ticks": ""
           }
          },
          "colorscale": {
           "diverging": [
            [
             0,
             "#8e0152"
            ],
            [
             0.1,
             "#c51b7d"
            ],
            [
             0.2,
             "#de77ae"
            ],
            [
             0.3,
             "#f1b6da"
            ],
            [
             0.4,
             "#fde0ef"
            ],
            [
             0.5,
             "#f7f7f7"
            ],
            [
             0.6,
             "#e6f5d0"
            ],
            [
             0.7,
             "#b8e186"
            ],
            [
             0.8,
             "#7fbc41"
            ],
            [
             0.9,
             "#4d9221"
            ],
            [
             1,
             "#276419"
            ]
           ],
           "sequential": [
            [
             0,
             "#0d0887"
            ],
            [
             0.1111111111111111,
             "#46039f"
            ],
            [
             0.2222222222222222,
             "#7201a8"
            ],
            [
             0.3333333333333333,
             "#9c179e"
            ],
            [
             0.4444444444444444,
             "#bd3786"
            ],
            [
             0.5555555555555556,
             "#d8576b"
            ],
            [
             0.6666666666666666,
             "#ed7953"
            ],
            [
             0.7777777777777778,
             "#fb9f3a"
            ],
            [
             0.8888888888888888,
             "#fdca26"
            ],
            [
             1,
             "#f0f921"
            ]
           ],
           "sequentialminus": [
            [
             0,
             "#0d0887"
            ],
            [
             0.1111111111111111,
             "#46039f"
            ],
            [
             0.2222222222222222,
             "#7201a8"
            ],
            [
             0.3333333333333333,
             "#9c179e"
            ],
            [
             0.4444444444444444,
             "#bd3786"
            ],
            [
             0.5555555555555556,
             "#d8576b"
            ],
            [
             0.6666666666666666,
             "#ed7953"
            ],
            [
             0.7777777777777778,
             "#fb9f3a"
            ],
            [
             0.8888888888888888,
             "#fdca26"
            ],
            [
             1,
             "#f0f921"
            ]
           ]
          },
          "colorway": [
           "#636efa",
           "#EF553B",
           "#00cc96",
           "#ab63fa",
           "#FFA15A",
           "#19d3f3",
           "#FF6692",
           "#B6E880",
           "#FF97FF",
           "#FECB52"
          ],
          "font": {
           "color": "#2a3f5f"
          },
          "geo": {
           "bgcolor": "white",
           "lakecolor": "white",
           "landcolor": "#E5ECF6",
           "showlakes": true,
           "showland": true,
           "subunitcolor": "white"
          },
          "hoverlabel": {
           "align": "left"
          },
          "hovermode": "closest",
          "mapbox": {
           "style": "light"
          },
          "paper_bgcolor": "white",
          "plot_bgcolor": "#E5ECF6",
          "polar": {
           "angularaxis": {
            "gridcolor": "white",
            "linecolor": "white",
            "ticks": ""
           },
           "bgcolor": "#E5ECF6",
           "radialaxis": {
            "gridcolor": "white",
            "linecolor": "white",
            "ticks": ""
           }
          },
          "scene": {
           "xaxis": {
            "backgroundcolor": "#E5ECF6",
            "gridcolor": "white",
            "gridwidth": 2,
            "linecolor": "white",
            "showbackground": true,
            "ticks": "",
            "zerolinecolor": "white"
           },
           "yaxis": {
            "backgroundcolor": "#E5ECF6",
            "gridcolor": "white",
            "gridwidth": 2,
            "linecolor": "white",
            "showbackground": true,
            "ticks": "",
            "zerolinecolor": "white"
           },
           "zaxis": {
            "backgroundcolor": "#E5ECF6",
            "gridcolor": "white",
            "gridwidth": 2,
            "linecolor": "white",
            "showbackground": true,
            "ticks": "",
            "zerolinecolor": "white"
           }
          },
          "shapedefaults": {
           "line": {
            "color": "#2a3f5f"
           }
          },
          "ternary": {
           "aaxis": {
            "gridcolor": "white",
            "linecolor": "white",
            "ticks": ""
           },
           "baxis": {
            "gridcolor": "white",
            "linecolor": "white",
            "ticks": ""
           },
           "bgcolor": "#E5ECF6",
           "caxis": {
            "gridcolor": "white",
            "linecolor": "white",
            "ticks": ""
           }
          },
          "title": {
           "x": 0.05
          },
          "xaxis": {
           "automargin": true,
           "gridcolor": "white",
           "linecolor": "white",
           "ticks": "",
           "title": {
            "standoff": 15
           },
           "zerolinecolor": "white",
           "zerolinewidth": 2
          },
          "yaxis": {
           "automargin": true,
           "gridcolor": "white",
           "linecolor": "white",
           "ticks": "",
           "title": {
            "standoff": 15
           },
           "zerolinecolor": "white",
           "zerolinewidth": 2
          }
         }
        },
        "title": {
         "text": "AAPL"
        }
       }
      }
     },
     "metadata": {},
     "output_type": "display_data"
    }
   ],
   "source": [
    "import plotly.graph_objects as go\n",
    "\n",
    "data = aapl.resample('W').mean()\n",
    "\n",
    "graph = {\n",
    "    'x': data.index,\n",
    "    'open': data.Open,\n",
    "    'close': data.Close,\n",
    "    'high': data.High,\n",
    "    'low': data.Low,\n",
    "    'type': 'candlestick',\n",
    "    'name': 'AAPL',\n",
    "    'showlegend': True\n",
    "}\n",
    "\n",
    "layout = go.Figure(\n",
    "    data = [graph],\n",
    "    layout_title=\"AAPL\"\n",
    ")\n",
    "\n",
    "layout"
   ]
  },
  {
   "cell_type": "markdown",
   "metadata": {},
   "source": [
    "Посчитаем дневное процентное изменение цены — процентное изменение цены приобретенных акций по сравнению с предыдущим торговым днем. Подсчитать такие изменения легко с помощью функции pct_change(), входящей в пакет Pandas."
   ]
  },
  {
   "cell_type": "code",
   "execution_count": 79,
   "metadata": {},
   "outputs": [
    {
     "data": {
      "text/html": [
       "<div>\n",
       "<style scoped>\n",
       "    .dataframe tbody tr th:only-of-type {\n",
       "        vertical-align: middle;\n",
       "    }\n",
       "\n",
       "    .dataframe tbody tr th {\n",
       "        vertical-align: top;\n",
       "    }\n",
       "\n",
       "    .dataframe thead th {\n",
       "        text-align: right;\n",
       "    }\n",
       "</style>\n",
       "<table border=\"1\" class=\"dataframe\">\n",
       "  <thead>\n",
       "    <tr style=\"text-align: right;\">\n",
       "      <th></th>\n",
       "      <th>Adj Close</th>\n",
       "    </tr>\n",
       "    <tr>\n",
       "      <th>Date</th>\n",
       "      <th></th>\n",
       "    </tr>\n",
       "  </thead>\n",
       "  <tbody>\n",
       "    <tr>\n",
       "      <th>2011-01-03</th>\n",
       "      <td>0.000000</td>\n",
       "    </tr>\n",
       "    <tr>\n",
       "      <th>2011-01-04</th>\n",
       "      <td>0.005219</td>\n",
       "    </tr>\n",
       "    <tr>\n",
       "      <th>2011-01-05</th>\n",
       "      <td>0.008180</td>\n",
       "    </tr>\n",
       "    <tr>\n",
       "      <th>2011-01-06</th>\n",
       "      <td>-0.000808</td>\n",
       "    </tr>\n",
       "    <tr>\n",
       "      <th>2011-01-07</th>\n",
       "      <td>0.007162</td>\n",
       "    </tr>\n",
       "  </tbody>\n",
       "</table>\n",
       "</div>"
      ],
      "text/plain": [
       "            Adj Close\n",
       "Date                 \n",
       "2011-01-03   0.000000\n",
       "2011-01-04   0.005219\n",
       "2011-01-05   0.008180\n",
       "2011-01-06  -0.000808\n",
       "2011-01-07   0.007162"
      ]
     },
     "execution_count": 79,
     "metadata": {},
     "output_type": "execute_result"
    }
   ],
   "source": [
    "import numpy as np \n",
    "\n",
    "# выбираем колонку `Adj Close`\n",
    "daily_close = aapl[['Adj Close']]\n",
    "\n",
    "# Считаем процентную разницу между текущим значением и предыдущим\n",
    "daily_pct_change = daily_close.pct_change()\n",
    "\n",
    "# Заполняем все `NA` нулями\n",
    "daily_pct_change.fillna(0, inplace=True)\n",
    "\n",
    "daily_pct_change.head()"
   ]
  },
  {
   "cell_type": "markdown",
   "metadata": {},
   "source": [
    "Рассчитаем этот показатель за месяц и даже квартал. В таких случаях можно использовать функцию resample(), которую мы рассматривали выше."
   ]
  },
  {
   "cell_type": "code",
   "execution_count": 76,
   "metadata": {},
   "outputs": [
    {
     "data": {
      "text/plain": [
       "Date\n",
       "2011-01-31         NaN\n",
       "2011-02-28    0.040935\n",
       "2011-03-31   -0.013307\n",
       "2011-04-29    0.004648\n",
       "2011-05-31   -0.006569\n",
       "2011-06-30   -0.034960\n",
       "2011-07-29    0.163285\n",
       "2011-08-31   -0.014469\n",
       "2011-09-30   -0.009121\n",
       "2011-10-31    0.061523\n",
       "2011-11-30   -0.055783\n",
       "2011-12-30    0.059655\n",
       "Freq: BM, Name: Close, dtype: float64"
      ]
     },
     "execution_count": 76,
     "metadata": {},
     "output_type": "execute_result"
    }
   ],
   "source": [
    "# Прибыль за месяц \n",
    "monthly = aapl['Close'].resample('BM').apply(lambda x: x[-1])\n",
    "\n",
    "# Считаем процентную разницу между текущим значением и предыдущим\n",
    "monthly.pct_change()"
   ]
  },
  {
   "cell_type": "code",
   "execution_count": 45,
   "metadata": {},
   "outputs": [
    {
     "data": {
      "text/html": [
       "<div>\n",
       "<style scoped>\n",
       "    .dataframe tbody tr th:only-of-type {\n",
       "        vertical-align: middle;\n",
       "    }\n",
       "\n",
       "    .dataframe tbody tr th {\n",
       "        vertical-align: top;\n",
       "    }\n",
       "\n",
       "    .dataframe thead th {\n",
       "        text-align: right;\n",
       "    }\n",
       "</style>\n",
       "<table border=\"1\" class=\"dataframe\">\n",
       "  <thead>\n",
       "    <tr style=\"text-align: right;\">\n",
       "      <th></th>\n",
       "      <th>High</th>\n",
       "      <th>Low</th>\n",
       "      <th>Open</th>\n",
       "      <th>Close</th>\n",
       "      <th>Volume</th>\n",
       "      <th>Adj Close</th>\n",
       "    </tr>\n",
       "    <tr>\n",
       "      <th>Date</th>\n",
       "      <th></th>\n",
       "      <th></th>\n",
       "      <th></th>\n",
       "      <th></th>\n",
       "      <th></th>\n",
       "      <th></th>\n",
       "    </tr>\n",
       "  </thead>\n",
       "  <tbody>\n",
       "    <tr>\n",
       "      <th>2011-01-31</th>\n",
       "      <td>NaN</td>\n",
       "      <td>NaN</td>\n",
       "      <td>NaN</td>\n",
       "      <td>NaN</td>\n",
       "      <td>NaN</td>\n",
       "      <td>NaN</td>\n",
       "    </tr>\n",
       "    <tr>\n",
       "      <th>2011-05-31</th>\n",
       "      <td>0.020611</td>\n",
       "      <td>0.023970</td>\n",
       "      <td>0.023087</td>\n",
       "      <td>0.020117</td>\n",
       "      <td>-0.182788</td>\n",
       "      <td>0.020117</td>\n",
       "    </tr>\n",
       "    <tr>\n",
       "      <th>2011-09-30</th>\n",
       "      <td>0.069299</td>\n",
       "      <td>0.061647</td>\n",
       "      <td>0.064811</td>\n",
       "      <td>0.065699</td>\n",
       "      <td>0.260926</td>\n",
       "      <td>0.065699</td>\n",
       "    </tr>\n",
       "    <tr>\n",
       "      <th>2012-01-31</th>\n",
       "      <td>0.063160</td>\n",
       "      <td>0.066845</td>\n",
       "      <td>0.065606</td>\n",
       "      <td>0.064678</td>\n",
       "      <td>-0.192633</td>\n",
       "      <td>0.064678</td>\n",
       "    </tr>\n",
       "  </tbody>\n",
       "</table>\n",
       "</div>"
      ],
      "text/plain": [
       "                High       Low      Open     Close    Volume  Adj Close\n",
       "Date                                                                   \n",
       "2011-01-31       NaN       NaN       NaN       NaN       NaN        NaN\n",
       "2011-05-31  0.020611  0.023970  0.023087  0.020117 -0.182788   0.020117\n",
       "2011-09-30  0.069299  0.061647  0.064811  0.065699  0.260926   0.065699\n",
       "2012-01-31  0.063160  0.066845  0.065606  0.064678 -0.192633   0.064678"
      ]
     },
     "execution_count": 45,
     "metadata": {},
     "output_type": "execute_result"
    }
   ],
   "source": [
    "# Прибыль за квартал\n",
    "quarter = aapl.resample(\"4M\").mean()\n",
    "\n",
    "# Считаем процентную разницу между текущим значением и предыдущим\n",
    "quarter.pct_change()"
   ]
  },
  {
   "cell_type": "markdown",
   "metadata": {},
   "source": [
    "Построим диаграммы распредления процентного изменияния цены за день"
   ]
  },
  {
   "cell_type": "code",
   "execution_count": 82,
   "metadata": {},
   "outputs": [
    {
     "data": {
      "image/png": "[encoded data removed]",
      "text/plain": [
       "<Figure size 640x480 with 1 Axes>"
      ]
     },
     "metadata": {},
     "output_type": "display_data"
    },
    {
     "data": {
      "text/html": [
       "<div>\n",
       "<style scoped>\n",
       "    .dataframe tbody tr th:only-of-type {\n",
       "        vertical-align: middle;\n",
       "    }\n",
       "\n",
       "    .dataframe tbody tr th {\n",
       "        vertical-align: top;\n",
       "    }\n",
       "\n",
       "    .dataframe thead th {\n",
       "        text-align: right;\n",
       "    }\n",
       "</style>\n",
       "<table border=\"1\" class=\"dataframe\">\n",
       "  <thead>\n",
       "    <tr style=\"text-align: right;\">\n",
       "      <th></th>\n",
       "      <th>Adj Close</th>\n",
       "    </tr>\n",
       "  </thead>\n",
       "  <tbody>\n",
       "    <tr>\n",
       "      <th>count</th>\n",
       "      <td>252.000000</td>\n",
       "    </tr>\n",
       "    <tr>\n",
       "      <th>mean</th>\n",
       "      <td>0.000954</td>\n",
       "    </tr>\n",
       "    <tr>\n",
       "      <th>std</th>\n",
       "      <td>0.016488</td>\n",
       "    </tr>\n",
       "    <tr>\n",
       "      <th>min</th>\n",
       "      <td>-0.055940</td>\n",
       "    </tr>\n",
       "    <tr>\n",
       "      <th>25%</th>\n",
       "      <td>-0.009266</td>\n",
       "    </tr>\n",
       "    <tr>\n",
       "      <th>50%</th>\n",
       "      <td>0.000884</td>\n",
       "    </tr>\n",
       "    <tr>\n",
       "      <th>75%</th>\n",
       "      <td>0.011050</td>\n",
       "    </tr>\n",
       "    <tr>\n",
       "      <th>max</th>\n",
       "      <td>0.058889</td>\n",
       "    </tr>\n",
       "  </tbody>\n",
       "</table>\n",
       "</div>"
      ],
      "text/plain": [
       "        Adj Close\n",
       "count  252.000000\n",
       "mean     0.000954\n",
       "std      0.016488\n",
       "min     -0.055940\n",
       "25%     -0.009266\n",
       "50%      0.000884\n",
       "75%      0.011050\n",
       "max      0.058889"
      ]
     },
     "execution_count": 82,
     "metadata": {},
     "output_type": "execute_result"
    }
   ],
   "source": [
    "# Построение диаграммы распредления\n",
    "daily_pct_change.hist(bins=50)\n",
    "plt.show()\n",
    "\n",
    "# Описание статистик\n",
    "daily_pct_change.describe()"
   ]
  },
  {
   "cell_type": "markdown",
   "metadata": {},
   "source": [
    "Результат выглядит симметричным и нормально распределенным.\n",
    "\n",
    "Показатель суммарной суточной нормы прибыли полезен для определения стоимости инвестиций на регулярных отрезках. Подсчитать суммарную суточную норму прибыли можно используя значения дневных изменений цены активов в процентах, добавляя к ним 1 и вычисляя конечные значения:"
   ]
  },
  {
   "cell_type": "code",
   "execution_count": 90,
   "metadata": {},
   "outputs": [
    {
     "data": {
      "text/html": [
       "<div>\n",
       "<style scoped>\n",
       "    .dataframe tbody tr th:only-of-type {\n",
       "        vertical-align: middle;\n",
       "    }\n",
       "\n",
       "    .dataframe tbody tr th {\n",
       "        vertical-align: top;\n",
       "    }\n",
       "\n",
       "    .dataframe thead th {\n",
       "        text-align: right;\n",
       "    }\n",
       "</style>\n",
       "<table border=\"1\" class=\"dataframe\">\n",
       "  <thead>\n",
       "    <tr style=\"text-align: right;\">\n",
       "      <th></th>\n",
       "      <th>Adj Close</th>\n",
       "    </tr>\n",
       "    <tr>\n",
       "      <th>Date</th>\n",
       "      <th></th>\n",
       "    </tr>\n",
       "  </thead>\n",
       "  <tbody>\n",
       "    <tr>\n",
       "      <th>2011-01-03</th>\n",
       "      <td>1.000000</td>\n",
       "    </tr>\n",
       "    <tr>\n",
       "      <th>2011-01-04</th>\n",
       "      <td>1.005219</td>\n",
       "    </tr>\n",
       "    <tr>\n",
       "      <th>2011-01-05</th>\n",
       "      <td>1.013442</td>\n",
       "    </tr>\n",
       "    <tr>\n",
       "      <th>2011-01-06</th>\n",
       "      <td>1.012623</td>\n",
       "    </tr>\n",
       "    <tr>\n",
       "      <th>2011-01-07</th>\n",
       "      <td>1.019875</td>\n",
       "    </tr>\n",
       "  </tbody>\n",
       "</table>\n",
       "</div>"
      ],
      "text/plain": [
       "            Adj Close\n",
       "Date                 \n",
       "2011-01-03   1.000000\n",
       "2011-01-04   1.005219\n",
       "2011-01-05   1.013442\n",
       "2011-01-06   1.012623\n",
       "2011-01-07   1.019875"
      ]
     },
     "execution_count": 90,
     "metadata": {},
     "output_type": "execute_result"
    }
   ],
   "source": [
    "# кумулятивная сумма\n",
    "cum_daily_return = (1 + daily_pct_change).cumprod()\n",
    "\n",
    "cum_daily_return.head()"
   ]
  },
  {
   "cell_type": "markdown",
   "metadata": {},
   "source": [
    "Визуализируем результат"
   ]
  },
  {
   "cell_type": "code",
   "execution_count": 92,
   "metadata": {},
   "outputs": [
    {
     "data": {
      "image/png": "[encoded data removed]",
      "text/plain": [
       "<Figure size 1600x400 with 1 Axes>"
      ]
     },
     "metadata": {},
     "output_type": "display_data"
    }
   ],
   "source": [
    "cum_daily_return.plot(figsize=(16,4))\n",
    "plt.show()"
   ]
  },
  {
   "cell_type": "markdown",
   "metadata": {},
   "source": [
    "Знание того, как можно подсчитать доход — полезный навык, но на практике эти значения редко несут в себе ценную информацию, если не сравнивать их с показателями других акций. Вот почему в различных примерах часто сравнивают между собой две или более акций."
   ]
  },
  {
   "cell_type": "code",
   "execution_count": null,
   "metadata": {},
   "outputs": [],
   "source": []
  },
  {
   "cell_type": "code",
   "execution_count": null,
   "metadata": {},
   "outputs": [],
   "source": []
  },
  {
   "cell_type": "code",
   "execution_count": null,
   "metadata": {},
   "outputs": [],
   "source": []
  },
  {
   "cell_type": "code",
   "execution_count": null,
   "metadata": {},
   "outputs": [],
   "source": []
  }
 ],
 "metadata": {
  "kernelspec": {
   "display_name": "Python 3.9.7 ('venv': venv)",
   "language": "python",
   "name": "python3"
  },
  "language_info": {
   "codemirror_mode": {
    "name": "ipython",
    "version": 3
   },
   "file_extension": ".py",
   "mimetype": "text/x-python",
   "name": "python",
   "nbconvert_exporter": "python",
   "pygments_lexer": "ipython3",
   "version": "3.9.7"
  },
  "orig_nbformat": 4,
  "vscode": {
   "interpreter": {
    "hash": "7f7e3bbcae20a704374d4db5ac15f62f3722a3569d20ee461fbec4ee187bfb30"
   }
  }
 },
 "nbformat": 4,
 "nbformat_minor": 2
}
